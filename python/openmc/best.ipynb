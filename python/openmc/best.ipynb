{
 "cells": [
  {
   "cell_type": "code",
   "execution_count": 58,
   "metadata": {},
   "outputs": [],
   "source": [
    "import openmc \n",
    "import openmc.mgxs as mgxs\n",
    "import numpy as np"
   ]
  },
  {
   "cell_type": "code",
   "execution_count": 59,
   "metadata": {},
   "outputs": [
    {
     "name": "stderr",
     "output_type": "stream",
     "text": [
      "/Users/gwenchee/anaconda3/envs/openmc-env/lib/python3.8/site-packages/openmc/mixin.py:68: IDWarning: Another Cell instance already exists with id=1.\n",
      "  warn(msg, IDWarning)\n",
      "/Users/gwenchee/anaconda3/envs/openmc-env/lib/python3.8/site-packages/openmc/mixin.py:68: IDWarning: Another Cell instance already exists with id=2.\n",
      "  warn(msg, IDWarning)\n"
     ]
    }
   ],
   "source": [
    "uoc_9 = openmc.Material()\n",
    "uoc_9.set_density('atom/b-cm', 7.038386E-2)\n",
    "uoc_9.add_nuclide('U235', 2.27325e-3)\n",
    "uoc_9.add_nuclide('U238', 2.269476e-2)\n",
    "uoc_9.add_nuclide('O16', 3.561871e-2)\n",
    "uoc_9.add_nuclide('C0', 9.79714e-3)\n",
    "uoc_9.temperature = 900\n",
    "\n",
    "graphite = openmc.Material()\n",
    "graphite.set_density(\"g/cc\", 1.8)\n",
    "graphite.add_nuclide(\"C0\", 9.025164e-2)\n",
    "graphite.temperature = 900\n",
    "\n",
    "mats = openmc.Materials([uoc_9, graphite])\n",
    "mats.export_to_xml()\n",
    "\n",
    "sphere = openmc.Sphere(r=6.3849)\n",
    "fuel = openmc.Cell(fill=uoc_9, region=-sphere, cell_id=1, name=\"fuel\")\n",
    "outer_sphere = openmc.Sphere(r=8, boundary_type=\"reflective\")\n",
    "moderator = openmc.Cell(fill=graphite, region=+sphere & -outer_sphere, cell_id=2, name=\"moderator\")\n",
    "geom = openmc.Geometry([fuel, moderator])\n",
    "geom.export_to_xml()\n",
    "\n",
    "settings = openmc.Settings()\n",
    "settings.batches = 50\n",
    "settings.inactive = 10\n",
    "settings.particles = 5000\n",
    "settings.temperature = {\"multipole\": True, \"method\": \"interpolation\"}\n",
    "settings.export_to_xml()"
   ]
  },
  {
   "cell_type": "code",
   "execution_count": 63,
   "metadata": {},
   "outputs": [],
   "source": [
    "def generate_openmc_tallies_xml(energy_groups, delayed_groups, domains, domain_ids, tallies_file):\n",
    "    groups = mgxs.EnergyGroups()\n",
    "    groups.group_edges = np.array(energy_groups)\n",
    "    big_group = mgxs.EnergyGroups() \n",
    "    big_energy_group = [energy_groups[0], energy_groups[-1]]\n",
    "    big_group.group_edges = np.array(big_energy_group)\n",
    "    energy_filter = openmc.EnergyFilter(energy_groups)\n",
    "    domain_dict = {} \n",
    "    for name in domain_ids:\n",
    "        domain_dict[name] = {} \n",
    "    for domain, name in zip(domains,domain_ids): \n",
    "        domain_dict[name][\"beta\"] = mgxs.Beta(domain=domain, energy_groups=big_group, delayed_groups=delayed_groups, name=str(name)+\"_beta\")\n",
    "        domain_dict[name][\"chi\"] = mgxs.Chi(domain=domain, groups=groups, name=str(name)+\"_chi\")\n",
    "        domain_dict[name][\"chidelayed\"] = mgxs.ChiDelayed(domain=domain, energy_groups=groups, name=str(name)+\"_chidelayed\")\n",
    "        domain_dict[name][\"decayrate\"] = mgxs.DecayRate(domain=domain, energy_groups=big_group, delayed_groups=delayed_groups, name=str(name)+\"_decayrate\")\n",
    "        domain_dict[name][\"scatterprobmatrix\"] = mgxs.ScatterProbabilityMatrix(domain=domain, groups=groups, name=str(name)+\"_scatterprobmatrix\")\n",
    "        domain_dict[name][\"inversevelocity\"] = mgxs.InverseVelocity(domain=domain, groups=groups, name=str(name)+\"_inversevelocity\")\n",
    "        domain_dict[name][\"fissionxs\"] = mgxs.FissionXS(domain=domain, groups=groups, name=str(name)+\"_fissionxs\")\n",
    "        domain_dict[name][\"tally\"] = openmc.Tally(name=str(name)+\" tally\")\n",
    "        domain_dict[name][\"filter\"] = openmc.CellFilter(domain)\n",
    "        domain_dict[name][\"tally\"].filters = [domain_dict[name][\"filter\"], energy_filter]\n",
    "        domain_dict[name][\"tally\"].scores = [\"kappa-fission\", \"nu-fission\", \"absorption\", \"scatter\"]\n",
    "        tallies_file += domain_dict[name][\"beta\"].tallies.values()\n",
    "        tallies_file += domain_dict[name][\"chi\"].tallies.values()\n",
    "        tallies_file += domain_dict[name][\"chidelayed\"].tallies.values()\n",
    "        tallies_file += domain_dict[name][\"decayrate\"].tallies.values()\n",
    "        tallies_file += domain_dict[name][\"scatterprobmatrix\"].tallies.values()\n",
    "        tallies_file += domain_dict[name][\"inversevelocity\"].tallies.values()\n",
    "        tallies_file += domain_dict[name][\"fissionxs\"].tallies.values()\n",
    "        tallies_file.append(domain_dict[name][\"tally\"])\n",
    "    tallies_file.export_to_xml()\n",
    "    return domain_dict"
   ]
  },
  {
   "cell_type": "code",
   "execution_count": 64,
   "metadata": {},
   "outputs": [
    {
     "name": "stderr",
     "output_type": "stream",
     "text": [
      "/Users/gwenchee/anaconda3/envs/openmc-env/lib/python3.8/site-packages/openmc/mixin.py:68: IDWarning: Another Filter instance already exists with id=91.\n",
      "  warn(msg, IDWarning)\n",
      "/Users/gwenchee/anaconda3/envs/openmc-env/lib/python3.8/site-packages/openmc/mixin.py:68: IDWarning: Another Filter instance already exists with id=92.\n",
      "  warn(msg, IDWarning)\n",
      "/Users/gwenchee/anaconda3/envs/openmc-env/lib/python3.8/site-packages/openmc/mixin.py:68: IDWarning: Another Filter instance already exists with id=95.\n",
      "  warn(msg, IDWarning)\n",
      "/Users/gwenchee/anaconda3/envs/openmc-env/lib/python3.8/site-packages/openmc/mixin.py:68: IDWarning: Another Filter instance already exists with id=93.\n",
      "  warn(msg, IDWarning)\n",
      "/Users/gwenchee/anaconda3/envs/openmc-env/lib/python3.8/site-packages/openmc/mixin.py:68: IDWarning: Another Filter instance already exists with id=104.\n",
      "  warn(msg, IDWarning)\n",
      "/Users/gwenchee/anaconda3/envs/openmc-env/lib/python3.8/site-packages/openmc/mixin.py:68: IDWarning: Another Filter instance already exists with id=111.\n",
      "  warn(msg, IDWarning)\n"
     ]
    }
   ],
   "source": [
    "tallies_file = openmc.Tallies()\n",
    "domain_dict = generate_openmc_tallies_xml([1e-8, 1, 1e3, 1e5, 20.0e7], list(range(1,7)), [fuel, moderator], [1,2], tallies_file)"
   ]
  },
  {
   "cell_type": "code",
   "execution_count": null,
   "metadata": {},
   "outputs": [],
   "source": [
    "tallies_file = openmc.Tallies()\n",
    "groups = mgxs.EnergyGroups()\n",
    "delayed_groups = list(range(1,7))\n",
    "energy_groups = [1e-8, 1, 1e3, 1e5, 20.0e7]\n",
    "groups.group_edges = np.array(energy_groups)\n",
    "big_group = mgxs.EnergyGroups() \n",
    "big_energy_group = [1e-8, 20.0e7]\n",
    "big_group.group_edges = np.array(big_energy_group)\n",
    "energy_filter = openmc.EnergyFilter(energy_groups)\n",
    "fuel_cell_filter = openmc.CellFilter(fuel)\n",
    "\n",
    "fuel_beta = mgxs.Beta(domain=fuel, energy_groups=big_group, delayed_groups=delayed_groups, name=\"fuel_beta\")\n",
    "fuel_chi = mgxs.Chi(domain=fuel, groups=groups, name=\"fuel_chi\")\n",
    "fuel_chidelayed = mgxs.ChiDelayed(domain=fuel, energy_groups=groups, name=\"fuel_chidelayed\")\n",
    "fuel_decayrate = mgxs.DecayRate(domain=fuel, energy_groups=big_group, delayed_groups=delayed_groups, name=\"fuel_decayrate\")\n",
    "#fuel_diffusioncoefficient = mgxs.DiffusionCoefficient(domain=fuel, groups=groups, name=\"fuel_diffusioncoefficient\")\n",
    "fuel_spm = mgxs.ScatterProbabilityMatrix(domain=fuel, groups=groups, name=\"fuel_spm\")\n",
    "fuel_iv = mgxs.InverseVelocity(domain=fuel, groups=groups, name=\"fuel_iv\")\n",
    "fuel_fxs = mgxs.FissionXS(domain=fuel, groups=groups, name=\"fuel_fxs\")\n",
    "fuel_tally = openmc.Tally(name=\"fuel tally\")\n",
    "fuel_tally.filters = [fuel_cell_filter, energy_filter]\n",
    "fuel_tally.scores = [\"kappa-fission\", \"nu-fission\", \"absorption\", \"scatter\"]\n",
    "\n",
    "tallies_file += fuel_beta.tallies.values()\n",
    "tallies_file += fuel_chi.tallies.values()\n",
    "tallies_file += fuel_chidelayed.tallies.values()\n",
    "tallies_file += fuel_decayrate.tallies.values()\n",
    "#tallies_file += fuel_diffusioncoefficient.tallies.values()\n",
    "tallies_file += fuel_spm.tallies.values()\n",
    "tallies_file += fuel_iv.tallies.values()\n",
    "tallies_file += fuel_fxs.tallies.values()\n",
    "tallies_file.append(fuel_tally)\n",
    "tallies_file.export_to_xml()"
   ]
  },
  {
   "cell_type": "code",
   "execution_count": null,
   "metadata": {},
   "outputs": [],
   "source": [
    "# openmc.mgxs.Beta [cm^-1]\n",
    "# openmc.mgxs.Chi [%]\n",
    "# openmc.mgxs.ChiDelayed [cm^-1]\n",
    "# openmc.mgxs.DecayRate [cm^-1]\n",
    "# openmc.mgxs.DiffusionCoefficient()\n",
    "# kappa-fission * settings.batches * settings.particles\n",
    "# mgxs.ScatterProbabilityMatrix [cm^-1]\n",
    "# nu-fission * settings.batches * settings.particles\n",
    "# mgxs.InverseVelocity [second/cm]\n",
    "# mgxs.FissionXS [cm^-1]"
   ]
  },
  {
   "cell_type": "code",
   "execution_count": 65,
   "metadata": {},
   "outputs": [
    {
     "name": "stdout",
     "output_type": "stream",
     "text": [
      "                                %%%%%%%%%%%%%%%\n",
      "                           %%%%%%%%%%%%%%%%%%%%%%%%\n",
      "                        %%%%%%%%%%%%%%%%%%%%%%%%%%%%%%\n",
      "                      %%%%%%%%%%%%%%%%%%%%%%%%%%%%%%%%%%\n",
      "                    %%%%%%%%%%%%%%%%%%%%%%%%%%%%%%%%%%%%%%\n",
      "                   %%%%%%%%%%%%%%%%%%%%%%%%%%%%%%%%%%%%%%%%\n",
      "                                    %%%%%%%%%%%%%%%%%%%%%%%%\n",
      "                                     %%%%%%%%%%%%%%%%%%%%%%%%\n",
      "                 ###############      %%%%%%%%%%%%%%%%%%%%%%%%\n",
      "                ##################     %%%%%%%%%%%%%%%%%%%%%%%\n",
      "                ###################     %%%%%%%%%%%%%%%%%%%%%%%\n",
      "                ####################     %%%%%%%%%%%%%%%%%%%%%%\n",
      "                #####################     %%%%%%%%%%%%%%%%%%%%%\n",
      "                ######################     %%%%%%%%%%%%%%%%%%%%\n",
      "                #######################     %%%%%%%%%%%%%%%%%%\n",
      "                 #######################     %%%%%%%%%%%%%%%%%\n",
      "                 ######################     %%%%%%%%%%%%%%%%%\n",
      "                  ####################     %%%%%%%%%%%%%%%%%\n",
      "                    #################     %%%%%%%%%%%%%%%%%\n",
      "                     ###############     %%%%%%%%%%%%%%%%\n",
      "                       ############     %%%%%%%%%%%%%%%\n",
      "                          ########     %%%%%%%%%%%%%%\n",
      "                                      %%%%%%%%%%%\n",
      "\n",
      "                   | The OpenMC Monte Carlo Code\n",
      "         Copyright | 2011-2020 MIT and OpenMC contributors\n",
      "           License | https://docs.openmc.org/en/latest/license.html\n",
      "           Version | 0.12.0\n",
      "         Date/Time | 2021-03-22 23:38:32\n",
      "    OpenMP Threads | 4\n",
      "\n",
      " Reading settings XML file...\n",
      " Reading cross sections XML file...\n",
      " Reading materials XML file...\n",
      " Reading geometry XML file...\n",
      " Reading U235 from /Users/gwenchee/data/endfb71_hdf5/U235.h5\n",
      " Reading U235 WMP data from /Users/gwenchee/data/endfb71_hdf5/wmp/092235.h5\n",
      " Reading U238 from /Users/gwenchee/data/endfb71_hdf5/U238.h5\n",
      " Reading U238 WMP data from /Users/gwenchee/data/endfb71_hdf5/wmp/092238.h5\n",
      " Reading O16 from /Users/gwenchee/data/endfb71_hdf5/O16.h5\n",
      " Reading O16 WMP data from /Users/gwenchee/data/endfb71_hdf5/wmp/008016.h5\n",
      " Reading C0 from /Users/gwenchee/data/endfb71_hdf5/C0.h5\n",
      " Reading C0 WMP data from /Users/gwenchee/data/endfb71_hdf5/wmp/006000.h5\n",
      " Minimum neutron data temperature: 600.000000 K\n",
      " Maximum neutron data temperature: 900.000000 K\n",
      " Reading tallies XML file...\n",
      " Preparing distributed cell instances...\n",
      " Writing summary.h5 file...\n",
      " Maximum neutron transport energy: 20000000.000000 eV for U235\n",
      " Initializing source particles...\n",
      "\n",
      " ====================>     K EIGENVALUE SIMULATION     <====================\n",
      "\n",
      "  Bat./Gen.      k            Average k\n",
      "  =========   ========   ====================\n",
      "        1/1    1.04921\n",
      "        2/1    1.04759\n",
      "        3/1    1.05817\n",
      "        4/1    1.04695\n",
      "        5/1    1.03443\n",
      "        6/1    1.05166\n",
      "        7/1    1.07422\n",
      "        8/1    1.06233\n",
      "        9/1    1.03688\n",
      "       10/1    1.04800\n",
      "       11/1    1.04332\n",
      "       12/1    1.04819    1.04575 +/- 0.00244\n",
      "       13/1    1.06135    1.05095 +/- 0.00539\n",
      "       14/1    1.08617    1.05976 +/- 0.00959\n",
      "       15/1    1.06470    1.06075 +/- 0.00750\n",
      "       16/1    1.05986    1.06060 +/- 0.00612\n",
      "       17/1    1.06071    1.06061 +/- 0.00517\n",
      "       18/1    1.05269    1.05962 +/- 0.00459\n",
      "       19/1    1.05281    1.05887 +/- 0.00412\n",
      "       20/1    1.05801    1.05878 +/- 0.00368\n",
      "       21/1    1.05234    1.05820 +/- 0.00338\n",
      "       22/1    1.05032    1.05754 +/- 0.00316\n",
      "       23/1    1.05883    1.05764 +/- 0.00291\n",
      "       24/1    1.08049    1.05927 +/- 0.00315\n",
      "       25/1    1.05782    1.05917 +/- 0.00293\n",
      "       26/1    1.05561    1.05895 +/- 0.00275\n",
      "       27/1    1.07108    1.05966 +/- 0.00268\n",
      "       28/1    1.03691    1.05840 +/- 0.00283\n",
      "       29/1    1.02125    1.05644 +/- 0.00331\n",
      "       30/1    1.05769    1.05651 +/- 0.00314\n",
      "       31/1    1.06081    1.05671 +/- 0.00300\n",
      "       32/1    1.03416    1.05569 +/- 0.00304\n",
      "       33/1    1.04152    1.05507 +/- 0.00297\n",
      "       34/1    1.04514    1.05466 +/- 0.00287\n",
      "       35/1    1.07001    1.05527 +/- 0.00282\n",
      "       36/1    1.06586    1.05568 +/- 0.00274\n",
      "       37/1    1.06156    1.05590 +/- 0.00264\n",
      "       38/1    1.03049    1.05499 +/- 0.00271\n",
      "       39/1    1.07075    1.05553 +/- 0.00267\n",
      "       40/1    1.06811    1.05595 +/- 0.00261\n",
      "       41/1    1.04557    1.05562 +/- 0.00255\n",
      "       42/1    1.08549    1.05655 +/- 0.00264\n",
      "       43/1    1.04779    1.05628 +/- 0.00257\n",
      "       44/1    1.07625    1.05687 +/- 0.00256\n",
      "       45/1    1.06817    1.05719 +/- 0.00251\n",
      "       46/1    1.06856    1.05751 +/- 0.00246\n",
      "       47/1    1.06518    1.05772 +/- 0.00240\n",
      "       48/1    1.04882    1.05748 +/- 0.00235\n",
      "       49/1    1.07011    1.05781 +/- 0.00231\n",
      "       50/1    1.06012    1.05787 +/- 0.00225\n",
      " Creating state point statepoint.50.h5...\n",
      "\n",
      " =======================>     TIMING STATISTICS     <=======================\n",
      "\n",
      " Total time for initialization     = 1.1109e+00 seconds\n",
      "   Reading cross sections          = 1.0590e+00 seconds\n",
      " Total time in simulation          = 2.0725e+01 seconds\n",
      "   Time in transport only          = 2.0606e+01 seconds\n",
      "   Time in inactive batches        = 1.2198e+00 seconds\n",
      "   Time in active batches          = 1.9506e+01 seconds\n",
      "   Time synchronizing fission bank = 1.4521e-02 seconds\n",
      "     Sampling source sites         = 1.3383e-02 seconds\n",
      "     SEND/RECV source sites        = 1.1184e-03 seconds\n",
      "   Time accumulating tallies       = 1.6378e-04 seconds\n",
      " Total time for finalization       = 8.6796e-04 seconds\n",
      " Total time elapsed                = 2.1846e+01 seconds\n",
      " Calculation Rate (inactive)       = 40991.0 particles/second\n",
      " Calculation Rate (active)         = 10253.5 particles/second\n",
      "\n",
      " ============================>     RESULTS     <============================\n",
      "\n",
      " k-effective (Collision)     = 1.05644 +/- 0.00222\n",
      " k-effective (Track-length)  = 1.05787 +/- 0.00225\n",
      " k-effective (Absorption)    = 1.05770 +/- 0.00241\n",
      " Combined k-effective        = 1.05746 +/- 0.00176\n",
      " Leakage Fraction            = 0.00000 +/- 0.00000\n",
      "\n"
     ]
    }
   ],
   "source": [
    "openmc.run()"
   ]
  },
  {
   "cell_type": "code",
   "execution_count": 66,
   "metadata": {},
   "outputs": [
    {
     "name": "stdout",
     "output_type": "stream",
     "text": [
      "[2]\n",
      "[1]\n"
     ]
    },
    {
     "name": "stderr",
     "output_type": "stream",
     "text": [
      "/Users/gwenchee/anaconda3/envs/openmc-env/lib/python3.8/site-packages/openmc/mixin.py:68: IDWarning: Another Filter instance already exists with id=104.\n",
      "  warn(msg, IDWarning)\n",
      "/Users/gwenchee/anaconda3/envs/openmc-env/lib/python3.8/site-packages/openmc/mixin.py:68: IDWarning: Another Filter instance already exists with id=111.\n",
      "  warn(msg, IDWarning)\n",
      "/Users/gwenchee/anaconda3/envs/openmc-env/lib/python3.8/site-packages/openmc/mixin.py:68: IDWarning: Another Filter instance already exists with id=91.\n",
      "  warn(msg, IDWarning)\n",
      "/Users/gwenchee/anaconda3/envs/openmc-env/lib/python3.8/site-packages/openmc/mixin.py:68: IDWarning: Another Filter instance already exists with id=92.\n",
      "  warn(msg, IDWarning)\n",
      "/Users/gwenchee/anaconda3/envs/openmc-env/lib/python3.8/site-packages/openmc/mixin.py:68: IDWarning: Another Filter instance already exists with id=93.\n",
      "  warn(msg, IDWarning)\n",
      "/Users/gwenchee/anaconda3/envs/openmc-env/lib/python3.8/site-packages/openmc/mixin.py:68: IDWarning: Another Filter instance already exists with id=95.\n",
      "  warn(msg, IDWarning)\n"
     ]
    }
   ],
   "source": [
    "sp = openmc.StatePoint('statepoint.50.h5')\n",
    "for k in sp.filters: \n",
    "    v = sp.filters[k]\n",
    "    if isinstance(v, openmc.filter.CellFilter):\n",
    "        print(v.bins)"
   ]
  },
  {
   "cell_type": "code",
   "execution_count": 48,
   "metadata": {},
   "outputs": [
    {
     "data": {
      "text/plain": [
       "{16: EnergyFilter\n",
       " \tValues         =\t[1.e-08 1.e+00 1.e+03 1.e+05 2.e+08]\n",
       " \tID             =\t16,\n",
       " 23: CellFilter\n",
       " \tBins           =\t[2]\n",
       " \tID             =\t23,\n",
       " 3: CellFilter\n",
       " \tBins           =\t[1]\n",
       " \tID             =\t3,\n",
       " 4: EnergyFilter\n",
       " \tValues         =\t[1.e-08 2.e+08]\n",
       " \tID             =\t4,\n",
       " 5: DelayedGroupFilter\n",
       " \tBins           =\t[1 2 3 4 5 6]\n",
       " \tID             =\t5,\n",
       " 7: EnergyoutFilter\n",
       " \tValues         =\t[1.e-08 1.e+00 1.e+03 1.e+05 2.e+08]\n",
       " \tID             =\t7}"
      ]
     },
     "execution_count": 48,
     "metadata": {},
     "output_type": "execute_result"
    }
   ],
   "source": [
    "sp.filters"
   ]
  },
  {
   "cell_type": "code",
   "execution_count": null,
   "metadata": {},
   "outputs": [],
   "source": [
    "#fuel_beta.load_from_statepoint(sp)\n",
    "#fuel_beta.get_pandas_dataframe()"
   ]
  },
  {
   "cell_type": "code",
   "execution_count": 61,
   "metadata": {},
   "outputs": [
    {
     "ename": "NameError",
     "evalue": "name 'fuel_chi' is not defined",
     "output_type": "error",
     "traceback": [
      "\u001b[0;31m---------------------------------------------------------------------------\u001b[0m",
      "\u001b[0;31mNameError\u001b[0m                                 Traceback (most recent call last)",
      "\u001b[0;32m<ipython-input-61-0d6260b4863d>\u001b[0m in \u001b[0;36m<module>\u001b[0;34m\u001b[0m\n\u001b[1;32m      1\u001b[0m \u001b[0;31m#CHIT\u001b[0m\u001b[0;34m\u001b[0m\u001b[0;34m\u001b[0m\u001b[0;34m\u001b[0m\u001b[0m\n\u001b[0;32m----> 2\u001b[0;31m \u001b[0mfuel_chi\u001b[0m\u001b[0;34m.\u001b[0m\u001b[0mload_from_statepoint\u001b[0m\u001b[0;34m(\u001b[0m\u001b[0msp\u001b[0m\u001b[0;34m)\u001b[0m\u001b[0;34m\u001b[0m\u001b[0;34m\u001b[0m\u001b[0m\n\u001b[0m\u001b[1;32m      3\u001b[0m \u001b[0mfuel_chi\u001b[0m\u001b[0;34m.\u001b[0m\u001b[0mget_pandas_dataframe\u001b[0m\u001b[0;34m(\u001b[0m\u001b[0;34m)\u001b[0m\u001b[0;34m\u001b[0m\u001b[0;34m\u001b[0m\u001b[0m\n",
      "\u001b[0;31mNameError\u001b[0m: name 'fuel_chi' is not defined"
     ]
    }
   ],
   "source": [
    "#CHIT \n",
    "fuel_chi.load_from_statepoint(sp)\n",
    "fuel_chi.get_pandas_dataframe()"
   ]
  },
  {
   "cell_type": "code",
   "execution_count": null,
   "metadata": {},
   "outputs": [],
   "source": [
    "fuel_chidelayed.load_from_statepoint(sp)\n",
    "fuel_chidelayed.get_pandas_dataframe()"
   ]
  },
  {
   "cell_type": "code",
   "execution_count": null,
   "metadata": {},
   "outputs": [],
   "source": [
    "fuel_decayrate.load_from_statepoint(sp)\n",
    "fuel_decayrate.get_pandas_dataframe()"
   ]
  },
  {
   "cell_type": "code",
   "execution_count": null,
   "metadata": {},
   "outputs": [],
   "source": [
    "fuel_tally = sp.get_tally(name='fuel tally')\n",
    "df_fuel_tally = fuel_tally.get_pandas_dataframe()\n",
    "df_fuel_tally = df_fuel_tally[df_fuel_tally[\"score\"]== \"kappa-fission\"]\n",
    "df_fuel_tally[\"fisse\"] = df_fuel_tally[\"mean\"] * sp.current_batch * sp.n_particles\n",
    "df_fuel_tally"
   ]
  },
  {
   "cell_type": "code",
   "execution_count": null,
   "metadata": {},
   "outputs": [],
   "source": [
    "fuel_spm.load_from_statepoint(sp)\n",
    "fuel_spm.get_pandas_dataframe()"
   ]
  },
  {
   "cell_type": "code",
   "execution_count": null,
   "metadata": {},
   "outputs": [],
   "source": [
    "fuel_tally = sp.get_tally(name='fuel tally')\n",
    "df_fuel_tally = fuel_tally.get_pandas_dataframe()\n",
    "df_fuel_tally = df_fuel_tally[df_fuel_tally[\"score\"]== \"nu-fission\"]\n",
    "df_fuel_tally[\"nsf\"] = df_fuel_tally[\"mean\"] * sp.current_batch * sp.n_particles\n",
    "df_fuel_tally"
   ]
  },
  {
   "cell_type": "code",
   "execution_count": null,
   "metadata": {},
   "outputs": [],
   "source": [
    "fuel_iv.load_from_statepoint(sp)\n",
    "fuel_iv.get_pandas_dataframe()"
   ]
  },
  {
   "cell_type": "code",
   "execution_count": null,
   "metadata": {},
   "outputs": [],
   "source": [
    "fuel_tally = sp.get_tally(name='fuel tally')\n",
    "df_fuel_tally = fuel_tally.get_pandas_dataframe()\n",
    "df_fuel_tally = df_fuel_tally[df_fuel_tally[\"score\"]== \"nu-fission\"]\n",
    "df_fuel_tally[\"nsf\"] = df_fuel_tally[\"mean\"] * sp.current_batch * sp.n_particles\n",
    "df_fuel_tally"
   ]
  },
  {
   "cell_type": "code",
   "execution_count": null,
   "metadata": {},
   "outputs": [],
   "source": [
    "fuel_tally = sp.get_tally(name='fuel tally')\n",
    "df_fuel_tally = fuel_tally.get_pandas_dataframe()\n",
    "df_fuel_tally_scatter = df_fuel_tally[df_fuel_tally[\"score\"]== \"scatter\"]\n",
    "df_fuel_tally_abs = df_fuel_tally[df_fuel_tally[\"score\"]== \"absorption\"]\n",
    "df_fuel_tally = df_fuel_tally[df_fuel_tally[\"score\"]== \"absorption\"]\n",
    "df_fuel_tally[\"remxs\"] = df_fuel_tally_scatter[\"mean\"] + df_fuel_tally_abs[\"mean\"]\n",
    "df_fuel_tally"
   ]
  },
  {
   "cell_type": "code",
   "execution_count": null,
   "metadata": {},
   "outputs": [],
   "source": [
    "df_fuel_tally_scatter[\"mean\"] + df_fuel_tally_abs[\"mean\"]"
   ]
  },
  {
   "cell_type": "code",
   "execution_count": null,
   "metadata": {},
   "outputs": [],
   "source": [
    "for i,j in zip(df_fuel_tally_abs[\"mean\"],df_fuel_tally_scatter[\"mean\"]):\n",
    "    print(i+j)"
   ]
  },
  {
   "cell_type": "code",
   "execution_count": 56,
   "metadata": {},
   "outputs": [
    {
     "ename": "NameError",
     "evalue": "name 'fuel_fxs' is not defined",
     "output_type": "error",
     "traceback": [
      "\u001b[0;31m---------------------------------------------------------------------------\u001b[0m",
      "\u001b[0;31mNameError\u001b[0m                                 Traceback (most recent call last)",
      "\u001b[0;32m<ipython-input-56-0e18f4223dc1>\u001b[0m in \u001b[0;36m<module>\u001b[0;34m\u001b[0m\n\u001b[0;32m----> 1\u001b[0;31m \u001b[0mfuel_fxs\u001b[0m\u001b[0;34m.\u001b[0m\u001b[0mload_from_statepoint\u001b[0m\u001b[0;34m(\u001b[0m\u001b[0msp\u001b[0m\u001b[0;34m)\u001b[0m\u001b[0;34m\u001b[0m\u001b[0;34m\u001b[0m\u001b[0m\n\u001b[0m\u001b[1;32m      2\u001b[0m \u001b[0mfuel_fxs\u001b[0m\u001b[0;34m.\u001b[0m\u001b[0mget_pandas_dataframe\u001b[0m\u001b[0;34m(\u001b[0m\u001b[0;34m)\u001b[0m\u001b[0;34m\u001b[0m\u001b[0;34m\u001b[0m\u001b[0m\n",
      "\u001b[0;31mNameError\u001b[0m: name 'fuel_fxs' is not defined"
     ]
    }
   ],
   "source": [
    "fuel_fxs.load_from_statepoint(sp)\n",
    "fuel_fxs.get_pandas_dataframe()"
   ]
  },
  {
   "cell_type": "code",
   "execution_count": 74,
   "metadata": {},
   "outputs": [
    {
     "data": {
      "text/plain": [
       "[0.005326609754292178,\n",
       " 0.006819051198892783,\n",
       " 0.03619849595844361,\n",
       " 0.1901923841024031]"
      ]
     },
     "execution_count": 74,
     "metadata": {},
     "output_type": "execute_result"
    }
   ],
   "source": [
    "domain_dict[1][\"fissionxs\"].load_from_statepoint(sp)\n",
    "list(domain_dict[1][\"fissionxs\"].get_pandas_dataframe()[\"mean\"])"
   ]
  },
  {
   "cell_type": "code",
   "execution_count": 77,
   "metadata": {},
   "outputs": [],
   "source": [
    "def get_tallies_list(sp, tally):\n",
    "    tally.load_from_statepoint(sp)\n",
    "    return list(tally.get_pandas_dataframe()[\"mean\"])"
   ]
  },
  {
   "cell_type": "code",
   "execution_count": 78,
   "metadata": {},
   "outputs": [
    {
     "data": {
      "text/plain": [
       "[0.00022765434528523683,\n",
       " 0.00128348757224532,\n",
       " 0.0012872662856220486,\n",
       " 0.0031286071367546357,\n",
       " 0.0015376581809872095,\n",
       " 0.0006353818673912366]"
      ]
     },
     "execution_count": 78,
     "metadata": {},
     "output_type": "execute_result"
    }
   ],
   "source": [
    "get_tallies_list(sp, domain_dict[1][\"beta\"])"
   ]
  },
  {
   "cell_type": "code",
   "execution_count": null,
   "metadata": {},
   "outputs": [],
   "source": []
  }
 ],
 "metadata": {
  "kernelspec": {
   "display_name": "openmc-ker",
   "language": "python",
   "name": "openmc-ker"
  },
  "language_info": {
   "codemirror_mode": {
    "name": "ipython",
    "version": 3
   },
   "file_extension": ".py",
   "mimetype": "text/x-python",
   "name": "python",
   "nbconvert_exporter": "python",
   "pygments_lexer": "ipython3",
   "version": "3.8.6"
  }
 },
 "nbformat": 4,
 "nbformat_minor": 4
}
